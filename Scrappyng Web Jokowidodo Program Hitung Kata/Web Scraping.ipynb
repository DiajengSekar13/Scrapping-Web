{
 "cells": [
  {
   "cell_type": "code",
   "execution_count": 1,
   "id": "d7afa21d-a33c-425a-b715-e43488a3e22b",
   "metadata": {
    "scrolled": true
   },
   "outputs": [
    {
     "name": "stdout",
     "output_type": "stream",
     "text": [
      "Requirement already satisfied: selenium in c:\\users\\hp\\anaconda3\\lib\\site-packages (4.18.1)\n",
      "Requirement already satisfied: urllib3[socks]<3,>=1.26 in c:\\users\\hp\\anaconda3\\lib\\site-packages (from selenium) (1.26.18)\n",
      "Requirement already satisfied: trio~=0.17 in c:\\users\\hp\\anaconda3\\lib\\site-packages (from selenium) (0.24.0)\n",
      "Requirement already satisfied: trio-websocket~=0.9 in c:\\users\\hp\\anaconda3\\lib\\site-packages (from selenium) (0.11.1)\n",
      "Requirement already satisfied: certifi>=2021.10.8 in c:\\users\\hp\\anaconda3\\lib\\site-packages (from selenium) (2023.11.17)\n",
      "Requirement already satisfied: typing_extensions>=4.9.0 in c:\\users\\hp\\anaconda3\\lib\\site-packages (from selenium) (4.10.0)\n",
      "Requirement already satisfied: attrs>=20.1.0 in c:\\users\\hp\\anaconda3\\lib\\site-packages (from trio~=0.17->selenium) (23.1.0)\n",
      "Requirement already satisfied: sortedcontainers in c:\\users\\hp\\anaconda3\\lib\\site-packages (from trio~=0.17->selenium) (2.4.0)\n",
      "Requirement already satisfied: idna in c:\\users\\hp\\anaconda3\\lib\\site-packages (from trio~=0.17->selenium) (3.4)\n",
      "Requirement already satisfied: outcome in c:\\users\\hp\\anaconda3\\lib\\site-packages (from trio~=0.17->selenium) (1.3.0.post0)\n",
      "Requirement already satisfied: sniffio>=1.3.0 in c:\\users\\hp\\anaconda3\\lib\\site-packages (from trio~=0.17->selenium) (1.3.1)\n",
      "Requirement already satisfied: cffi>=1.14 in c:\\users\\hp\\anaconda3\\lib\\site-packages (from trio~=0.17->selenium) (1.16.0)\n",
      "Requirement already satisfied: wsproto>=0.14 in c:\\users\\hp\\anaconda3\\lib\\site-packages (from trio-websocket~=0.9->selenium) (1.2.0)\n",
      "Requirement already satisfied: PySocks!=1.5.7,<2.0,>=1.5.6 in c:\\users\\hp\\anaconda3\\lib\\site-packages (from urllib3[socks]<3,>=1.26->selenium) (1.7.1)\n",
      "Requirement already satisfied: pycparser in c:\\users\\hp\\anaconda3\\lib\\site-packages (from cffi>=1.14->trio~=0.17->selenium) (2.21)\n",
      "Requirement already satisfied: h11<1,>=0.9.0 in c:\\users\\hp\\anaconda3\\lib\\site-packages (from wsproto>=0.14->trio-websocket~=0.9->selenium) (0.14.0)\n"
     ]
    },
    {
     "name": "stderr",
     "output_type": "stream",
     "text": [
      "WARNING: There was an error checking the latest version of pip.\n"
     ]
    },
    {
     "name": "stdout",
     "output_type": "stream",
     "text": [
      "Requirement already satisfied: beautifulsoup4 in c:\\users\\hp\\anaconda3\\lib\\site-packages (4.12.2)"
     ]
    },
    {
     "name": "stderr",
     "output_type": "stream",
     "text": [
      "WARNING: There was an error checking the latest version of pip.\n"
     ]
    },
    {
     "name": "stdout",
     "output_type": "stream",
     "text": [
      "\n",
      "Requirement already satisfied: soupsieve>1.2 in c:\\users\\hp\\anaconda3\\lib\\site-packages (from beautifulsoup4) (2.5)\n",
      "Requirement already satisfied: webdriver-manager in c:\\users\\hp\\anaconda3\\lib\\site-packages (4.0.1)\n",
      "Requirement already satisfied: requests in c:\\users\\hp\\anaconda3\\lib\\site-packages (from webdriver-manager) (2.31.0)\n",
      "Requirement already satisfied: python-dotenv in c:\\users\\hp\\anaconda3\\lib\\site-packages (from webdriver-manager) (0.21.0)\n",
      "Requirement already satisfied: packaging in c:\\users\\hp\\anaconda3\\lib\\site-packages (from webdriver-manager) (23.1)\n",
      "Requirement already satisfied: charset-normalizer<4,>=2 in c:\\users\\hp\\anaconda3\\lib\\site-packages (from requests->webdriver-manager) (2.0.4)\n",
      "Requirement already satisfied: idna<4,>=2.5 in c:\\users\\hp\\anaconda3\\lib\\site-packages (from requests->webdriver-manager) (3.4)\n",
      "Requirement already satisfied: urllib3<3,>=1.21.1 in c:\\users\\hp\\anaconda3\\lib\\site-packages (from requests->webdriver-manager) (1.26.18)\n",
      "Requirement already satisfied: certifi>=2017.4.17 in c:\\users\\hp\\anaconda3\\lib\\site-packages (from requests->webdriver-manager) (2023.11.17)\n"
     ]
    },
    {
     "name": "stderr",
     "output_type": "stream",
     "text": [
      "WARNING: There was an error checking the latest version of pip.\n"
     ]
    }
   ],
   "source": [
    "!pip install selenium\n",
    "!pip install beautifulsoup4\n",
    "!pip install webdriver-manager"
   ]
  },
  {
   "cell_type": "code",
   "execution_count": 3,
   "id": "83988825-1a04-4a7f-a147-22d1e0cc1f57",
   "metadata": {},
   "outputs": [
    {
     "name": "stdout",
     "output_type": "stream",
     "text": [
      "Presiden Joko Widodo • Presiden RI\n",
      "Output telah disimpan dalam file teks.\n"
     ]
    }
   ],
   "source": [
    "import requests\n",
    "from bs4 import BeautifulSoup\n",
    "\n",
    "# Membuat variable untuk menentukan inputan website mana yang akan di scraping\n",
    "link = \"https://www.presidenri.go.id/presiden-joko-widodo/\"\n",
    "\n",
    "# Melakukan pengambilan konten HTML dari link dengan menggunakan requests\n",
    "response = requests.get(link)\n",
    "html_content = response.content\n",
    "\n",
    "# Parsing HTML content dengan menggunakan beautifulsoup\n",
    "soup = BeautifulSoup(html_content, \"html.parser\")\n",
    "\n",
    "# Mendapatkan judul pada laman dan melakukan printout judul\n",
    "judul = soup.title.string\n",
    "print(judul)\n",
    "\n",
    "# Mengidentifikasi setiap paragraph pada halaman site\n",
    "paragraphs = soup.find_all(\"p\")\n",
    "\n",
    "# Membuat file .txt untuk menyimpan setiap paragraph yang terbaca\n",
    "with open(\"berita-1\", \"w\", encoding=\"utf-8\") as file:\n",
    "    # menulis output ke dalam file\n",
    "    for paragraph in paragraphs:\n",
    "        file.write(paragraph.text + \"\\n\")\n",
    "\n",
    "# Memberi tahu bahwa output telah disimpan\n",
    "print(\"Output telah disimpan dalam file teks.\")"
   ]
  },
  {
   "cell_type": "code",
   "execution_count": 4,
   "id": "7f3b8845-15a3-4eef-a90b-cfe33c475167",
   "metadata": {},
   "outputs": [
    {
     "name": "stdout",
     "output_type": "stream",
     "text": [
      "Joko Widodo - Wikipedia bahasa Indonesia, ensiklopedia bebas\n",
      "Output telah disimpan dalam file teks.\n"
     ]
    }
   ],
   "source": [
    "import requests\n",
    "from bs4 import BeautifulSoup\n",
    "\n",
    "# Membuat variable untuk menentukan inputan website mana yang akan di scraping\n",
    "link = \"https://id.wikipedia.org/wiki/Joko_Widodo\"\n",
    "\n",
    "# Melakukan pengambilan konten HTML dari link dengan menggunakan requests\n",
    "response = requests.get(link)\n",
    "html_content = response.content\n",
    "\n",
    "# Parsing HTML content dengan menggunakan beautifulsoup\n",
    "soup = BeautifulSoup(html_content, \"html.parser\")\n",
    "\n",
    "# Mendapatkan judul pada laman dan melakukan printout judul\n",
    "judul = soup.title.string\n",
    "print(judul)\n",
    "\n",
    "# Mengidentifikasi setiap paragraph pada halaman site\n",
    "paragraphs = soup.find_all(\"p\")\n",
    "\n",
    "# Membuat file .txt untuk menyimpan setiap paragraph yang terbaca\n",
    "with open(\"berita-2\", \"w\", encoding=\"utf-8\") as file:\n",
    "    # menulis output ke dalam file\n",
    "    for paragraph in paragraphs:\n",
    "        file.write(paragraph.text + \"\\n\")\n",
    "\n",
    "# Memberi tahu bahwa output telah disimpan\n",
    "print(\"Output telah disimpan dalam file teks.\")"
   ]
  },
  {
   "cell_type": "code",
   "execution_count": null,
   "id": "10471e1c-68b6-485f-93db-9396f632fd14",
   "metadata": {},
   "outputs": [],
   "source": []
  }
 ],
 "metadata": {
  "kernelspec": {
   "display_name": "Python 3 (ipykernel)",
   "language": "python",
   "name": "python3"
  },
  "language_info": {
   "codemirror_mode": {
    "name": "ipython",
    "version": 3
   },
   "file_extension": ".py",
   "mimetype": "text/x-python",
   "name": "python",
   "nbconvert_exporter": "python",
   "pygments_lexer": "ipython3",
   "version": "3.11.5"
  }
 },
 "nbformat": 4,
 "nbformat_minor": 5
}
